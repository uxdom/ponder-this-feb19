{
 "cells": [
  {
   "cell_type": "markdown",
   "metadata": {
    "author": "Ali Celik"
   },
   "source": [
    "# IBM Ponder This February 2019"
   ]
  },
  {
   "cell_type": "markdown",
   "metadata": {},
   "source": [
    "## Problem\n",
    "\n",
    "<a href=\"http://www.research.ibm.com/haifa/ponderthis/challenges/February2019.html\">February 2019 challenge from IBM Research's \"Ponder This\" competition</a>\n",
    "\n",
    "One of the databases <A HREF=\"https://www.research.ibm.com/artificial-intelligence/project-debater/\" target=\"blank\">project DEBATER</a>'s <a href=\"https://www.research.ibm.com/haifa/dept/vst/debating_data.shtml\" target=\"blank\">datasets</a> has been opened to the public:\n",
    "\n",
    "Wikipedia Oriented Relatedness Dataset (WORD), which contains <code>19,276</code> pairs of concepts and their <strong>relatedness.</strong><br>\n",
    "For example the <strong>relatedness score</strong> in the dataset has only <code>64</code> different values. (<a href=\"https://www.research.ibm.com/haifa/ponderthis/images/ponder0219.png\">See a screenshot from the dataset</a>)\n",
    "<p>Assuming this is a result of the fact that only <code>14</code> people were used to label the data, one would expect to get <code>65</code> different scores.<br><strong>How many people</strong>are needed to make the number of <strong>possible scores</strong> a value that contains all <code>10</code> digits, with each digit being <strong>used exactly once?</strong>"
   ]
  },
  {
   "cell_type": "markdown",
   "metadata": {},
   "source": [
    "## Solution"
   ]
  },
  {
   "cell_type": "markdown",
   "metadata": {},
   "source": [
    "### 1 - Breaking down the problem statement\n",
    "\n",
    "* What should be the number <code>N</code> of people that rated ...<br>\n",
    "\n",
    "* so the possible values in the dataset are <code>10</code> digits ...<br>\n",
    "\n",
    "* each digit being used exactly once; \n",
    "\n",
    "* such as <code>5346728190</code>, or <code>9182736450</code> etc..\n"
   ]
  },
  {
   "cell_type": "markdown",
   "metadata": {},
   "source": [
    "### 2 - Exporing the dataset\n",
    "\n",
    "First, let's investigate <code>19,276</code> pair values on the <strong>score column</strong> of the <a href=\"word_relatedness_we_only_need_scores.csv\">Word Relatedness Dataset</a> availabe here: <A HREF=\"scores_only.csv\">scores_only.csv</A>"
   ]
  },
  {
   "cell_type": "code",
   "execution_count": 3,
   "metadata": {},
   "outputs": [],
   "source": [
    "from datetime import datetime\n",
    "\n",
    "# For global settings\n",
    "\n",
    "DEBUG = False"
   ]
  },
  {
   "cell_type": "code",
   "execution_count": 4,
   "metadata": {},
   "outputs": [
    {
     "data": {
      "text/plain": [
       "(64,\n",
       " ['0',\n",
       "  '0.0625',\n",
       "  '0.071428571',\n",
       "  '0.076923077',\n",
       "  '0.083333333',\n",
       "  '0.090909091',\n",
       "  '0.1',\n",
       "  '0.111111111',\n",
       "  '0.142857143',\n",
       "  '0.153846154',\n",
       "  '0.166666667',\n",
       "  '0.181818182',\n",
       "  '0.1875',\n",
       "  '0.2',\n",
       "  '0.214285714',\n",
       "  '0.222222222',\n",
       "  '0.230769231',\n",
       "  '0.25',\n",
       "  '0.272727273',\n",
       "  '0.285714286',\n",
       "  '0.3',\n",
       "  '0.307692308',\n",
       "  '0.333333333',\n",
       "  '0.357142857',\n",
       "  '0.363636364',\n",
       "  '0.384615385',\n",
       "  '0.4',\n",
       "  '0.416666667',\n",
       "  '0.428571429',\n",
       "  '0.444444444',\n",
       "  '0.454545455',\n",
       "  '0.461538462',\n",
       "  '0.466666667',\n",
       "  '0.5',\n",
       "  '0.538461538',\n",
       "  '0.545454545',\n",
       "  '0.555555556',\n",
       "  '0.571428571',\n",
       "  '0.583333333',\n",
       "  '0.6',\n",
       "  '0.615384615',\n",
       "  '0.636363636',\n",
       "  '0.642857143',\n",
       "  '0.666666667',\n",
       "  '0.692307692',\n",
       "  '0.7',\n",
       "  '0.714285714',\n",
       "  '0.727272727',\n",
       "  '0.75',\n",
       "  '0.769230769',\n",
       "  '0.777777778',\n",
       "  '0.785714286',\n",
       "  '0.8',\n",
       "  '0.818181818',\n",
       "  '0.833333333',\n",
       "  '0.846153846',\n",
       "  '0.857142857',\n",
       "  '0.888888889',\n",
       "  '0.9',\n",
       "  '0.909090909',\n",
       "  '0.916666667',\n",
       "  '0.923076923',\n",
       "  '0.928571429',\n",
       "  '1'])"
      ]
     },
     "execution_count": 4,
     "metadata": {},
     "output_type": "execute_result"
    }
   ],
   "source": [
    "# We only need to store each score once, so we need a \"set\":\n",
    "raw_scores = set()\n",
    "\n",
    "with open(\"scores_only.csv\") as input:\n",
    "\n",
    "    row_num = 0\n",
    "    for line in input:\n",
    "        row_num += 1\n",
    "        \n",
    "        # Skip the header\n",
    "        if row_num == 1:\n",
    "            continue\n",
    "\n",
    "        # Print the first ten lines for debugging\n",
    "        if DEBUG:\n",
    "            if row_num < 10:\n",
    "                print(line)\n",
    "        row = line.strip().split(\",\")\n",
    "\n",
    "        # Warn if there is an error in the input and exit\n",
    "        if len(row) != 1:\n",
    "            print(row)\n",
    "            exit(0)\n",
    "        raw_scores.add(row[0])\n",
    "        \n",
    "# Print the number of different scores and their values \"from 0 to 1\"\n",
    "len(raw_scores),sorted(raw_scores)"
   ]
  },
  {
   "cell_type": "markdown",
   "metadata": {},
   "source": [
    "### 3 - Experiment a case and compare scores\n",
    "\n",
    "If <code>14</code> people used to rate the document the possible outcomes should be \n",
    "\n",
    "<code>0/14, 1/14, 2/14, ... , 14/14</code>\n",
    "which produce <code>15</code> different values from <code>0</code> to <code>1</code>\n",
    "\n",
    "So if <code>14</code> people labelled the data, scores should look like:"
   ]
  },
  {
   "cell_type": "code",
   "execution_count": 15,
   "metadata": {},
   "outputs": [
    {
     "data": {
      "text/plain": [
       "(0.0,\n",
       " 0.07142857142857142,\n",
       " 0.14285714285714285,\n",
       " 0.21428571428571427,\n",
       " 0.2857142857142857,\n",
       " 0.35714285714285715,\n",
       " 0.42857142857142855)"
      ]
     },
     "execution_count": 15,
     "metadata": {},
     "output_type": "execute_result"
    }
   ],
   "source": [
    "0/14, 1/14, 2/14, 3/14, 4/14, 5/14, 6/14"
   ]
  },
  {
   "cell_type": "markdown",
   "metadata": {},
   "source": [
    "Let's try to find how some scores could have been calculated in the dataset:"
   ]
  },
  {
   "cell_type": "code",
   "execution_count": 16,
   "metadata": {},
   "outputs": [
    {
     "data": {
      "text/plain": [
       "['0',\n",
       " '0.0625',\n",
       " '0.071428571',\n",
       " '0.076923077',\n",
       " '0.083333333',\n",
       " '0.090909091',\n",
       " '0.1']"
      ]
     },
     "execution_count": 16,
     "metadata": {},
     "output_type": "execute_result"
    }
   ],
   "source": [
    "sorted(raw_scores)[0:7]"
   ]
  },
  {
   "cell_type": "markdown",
   "metadata": {},
   "source": [
    "<code>0.071428571</code> is clearly equal to <code>1/14</code>"
   ]
  },
  {
   "cell_type": "code",
   "execution_count": 20,
   "metadata": {
    "scrolled": true
   },
   "outputs": [
    {
     "data": {
      "text/plain": [
       "14.000000084000002"
      ]
     },
     "execution_count": 20,
     "metadata": {},
     "output_type": "execute_result"
    }
   ],
   "source": [
    "1/0.071428571"
   ]
  },
  {
   "cell_type": "markdown",
   "metadata": {},
   "source": [
    "However score: <code>0.0625</code> tells us something else..."
   ]
  },
  {
   "cell_type": "code",
   "execution_count": 17,
   "metadata": {},
   "outputs": [
    {
     "data": {
      "text/plain": [
       "16.0"
      ]
     },
     "execution_count": 17,
     "metadata": {},
     "output_type": "execute_result"
    }
   ],
   "source": [
    "1/0.0625"
   ]
  },
  {
   "cell_type": "markdown",
   "metadata": {},
   "source": [
    "This can only come if <code>1</code> out of <code>16</code> people rated a document. So it is NOT the case for <strong>\"only\"</strong> <code>14</code> people to have rated these documents.<br>\n",
    "There must be at least <code>LCM(16, 14) = 16*14 / 2 = 112</code> raters. And number of raters can be higher if checked for more of the values above."
   ]
  },
  {
   "cell_type": "markdown",
   "metadata": {},
   "source": [
    "### 4 - Creating a pattern with small N\n",
    "\n",
    "The hint was that <code>65</code> different scores is generated by <code>14</code> people. Let's investigate further:\n",
    "\n",
    "At this point we understand that not all <code>14</code> people have rated <strong>each and every document</strong>.\n",
    "<br>Only possibility therefore is, a subset of <code>14</code> people to rate each document. In that case we have the following possible scores for <strong>any document with</strong>:\n",
    "\n",
    "<pre>\n",
    "1 rater:    0/1, 1/1                            two different values            (0,1)\n",
    "2 raters:   0/2, 1/2, 2/2                        + one different value          (0.5)\n",
    "3 raters:   0/3, 1/3, 2/3, 3/3                     + two different values       (0.33,0.66)\n",
    "4 raters:   0/4, 1/4, 2/4, 3/4, 4/4                  + two different values     (0.25,0.75)\n",
    "...                                                    + ...\n",
    "14 raters:  0/14, 1/14, 2/14, 3/14, 4/14, ... , 14/14    + 15 different values or 65 different values ???\n",
    "</pre>"
   ]
  },
  {
   "cell_type": "markdown",
   "metadata": {},
   "source": [
    "As seen above some of the values above boil down to the same score, for example: <code>1/2, 2/4, 3/6, ... , 7/14</code> all boil down to the score <code>0.5</code> <br>\n",
    "Let's code up a function to compute the set of all possible scores from given number of raters:"
   ]
  },
  {
   "cell_type": "code",
   "execution_count": 18,
   "metadata": {},
   "outputs": [],
   "source": [
    "# find all possible scores for N raters\n",
    "def find_possible_scores(N):\n",
    "    \n",
    "    scores = set()\n",
    "    scores.add(0)  # none of the N people found the document relevant\n",
    "    scores.add(1)  #  all of the N people found the document relevant\n",
    "    \n",
    "    # i decides all possible subsets of people\n",
    "    for i in range(1,N+1):\n",
    "        \n",
    "        # j out of i people found the document relevant \n",
    "        # j=0 and j=i cases are not included below, as they are already accounted for, above\n",
    "        for j in range(1,i):\n",
    "            scores.add(j/i)\n",
    "\n",
    "    if DEBUG:\n",
    "        print(len(scores),sorted(scores))\n",
    "        \n",
    "    return scores"
   ]
  },
  {
   "cell_type": "markdown",
   "metadata": {},
   "source": [
    "Let's find some of the results for small N:"
   ]
  },
  {
   "cell_type": "code",
   "execution_count": 45,
   "metadata": {},
   "outputs": [
    {
     "data": {
      "text/plain": [
       "{0, 1}"
      ]
     },
     "execution_count": 45,
     "metadata": {},
     "output_type": "execute_result"
    }
   ],
   "source": [
    "find_possible_scores(1)"
   ]
  },
  {
   "cell_type": "code",
   "execution_count": 46,
   "metadata": {},
   "outputs": [
    {
     "data": {
      "text/plain": [
       "{0, 0.5, 1}"
      ]
     },
     "execution_count": 46,
     "metadata": {},
     "output_type": "execute_result"
    }
   ],
   "source": [
    "find_possible_scores(2)"
   ]
  },
  {
   "cell_type": "code",
   "execution_count": 47,
   "metadata": {},
   "outputs": [
    {
     "data": {
      "text/plain": [
       "{0, 0.3333333333333333, 0.5, 0.6666666666666666, 1}"
      ]
     },
     "execution_count": 47,
     "metadata": {},
     "output_type": "execute_result"
    }
   ],
   "source": [
    "find_possible_scores(3)"
   ]
  },
  {
   "cell_type": "code",
   "execution_count": 48,
   "metadata": {},
   "outputs": [
    {
     "data": {
      "text/plain": [
       "{0, 0.25, 0.3333333333333333, 0.5, 0.6666666666666666, 0.75, 1}"
      ]
     },
     "execution_count": 48,
     "metadata": {},
     "output_type": "execute_result"
    }
   ],
   "source": [
    "find_possible_scores(4)"
   ]
  },
  {
   "cell_type": "code",
   "execution_count": 49,
   "metadata": {},
   "outputs": [
    {
     "data": {
      "text/plain": [
       "{0,\n",
       " 0.2,\n",
       " 0.25,\n",
       " 0.3333333333333333,\n",
       " 0.4,\n",
       " 0.5,\n",
       " 0.6,\n",
       " 0.6666666666666666,\n",
       " 0.75,\n",
       " 0.8,\n",
       " 1}"
      ]
     },
     "execution_count": 49,
     "metadata": {},
     "output_type": "execute_result"
    }
   ],
   "source": [
    "find_possible_scores(5)"
   ]
  },
  {
   "cell_type": "markdown",
   "metadata": {},
   "source": [
    "These all make sense. Let's now check the result for <code>N=14</code>:"
   ]
  },
  {
   "cell_type": "code",
   "execution_count": 19,
   "metadata": {},
   "outputs": [
    {
     "data": {
      "text/plain": [
       "65"
      ]
     },
     "execution_count": 19,
     "metadata": {},
     "output_type": "execute_result"
    }
   ],
   "source": [
    "len(find_possible_scores(14))"
   ]
  },
  {
   "cell_type": "markdown",
   "metadata": {},
   "source": [
    "So now we get <code>65</code> possible scores for <code>14</code> raters !<br>We can proceed to building next function on top of finding possible scores:"
   ]
  },
  {
   "cell_type": "markdown",
   "metadata": {},
   "source": [
    "### 5 - Check if digits are included once in possible number of scores\n",
    "\n",
    "In problem statement we want to know possible values with their digits. <br>Now let's write a function to check if the result includes all digits.\n",
    "\n",
    "To be practical, we will code up the function based on an assumed largest digit (since it will take a long time to run the code on the original problem):"
   ]
  },
  {
   "cell_type": "code",
   "execution_count": 20,
   "metadata": {},
   "outputs": [],
   "source": [
    "# check if all digits 0, 1, ..., LARGEST_DIGIT appear in the answer \n",
    "# default value=9\n",
    "def includes_all_digits(answer, LARGEST_DIGIT=9):\n",
    "    answer = str(answer)\n",
    "    good = True\n",
    "\n",
    "    # the smallest number including all digits 0, 1, ..., LARGEST_DIGIT \n",
    "    # should have exactly (LARGEST_DIGIT+1) digits\n",
    "    if len(answer) != LARGEST_DIGIT+1:\n",
    "        good = False\n",
    "    else:\n",
    "        for d in range(LARGEST_DIGIT+1):\n",
    "            if str(d) not in answer:\n",
    "                good = False\n",
    "                break\n",
    "    return good"
   ]
  },
  {
   "cell_type": "markdown",
   "metadata": {},
   "source": [
    "Test cases to check for LARGEST_DIGIT = 9"
   ]
  },
  {
   "cell_type": "code",
   "execution_count": 29,
   "metadata": {},
   "outputs": [
    {
     "data": {
      "text/plain": [
       "(True, False, False)"
      ]
     },
     "execution_count": 29,
     "metadata": {},
     "output_type": "execute_result"
    }
   ],
   "source": [
    "includes_all_digits(1234567890),  \\\n",
    "includes_all_digits(10234567890), \\\n",
    "includes_all_digits(123456789)"
   ]
  },
  {
   "cell_type": "code",
   "execution_count": 30,
   "metadata": {},
   "outputs": [
    {
     "data": {
      "text/plain": [
       "(True, True, True, False, False, False)"
      ]
     },
     "execution_count": 30,
     "metadata": {},
     "output_type": "execute_result"
    }
   ],
   "source": [
    "includes_all_digits(123450, 5),  \\\n",
    "includes_all_digits(104253, 5),  \\\n",
    "includes_all_digits(120435, 5),  \\\n",
    "includes_all_digits(1203540, 5), \\\n",
    "includes_all_digits(12305, 5),   \\\n",
    "includes_all_digits(1203145, 5)"
   ]
  },
  {
   "cell_type": "markdown",
   "metadata": {},
   "source": [
    "Good! These are the results we expected!"
   ]
  },
  {
   "cell_type": "markdown",
   "metadata": {},
   "source": [
    "### 6 - Putting pieces together to solve for N\n",
    "\n",
    "Now, let's write the function to iterate through a range of potential N values and check if that result includes all the digits.\n",
    "\n",
    "We will use LARGEST_DIGIT as parameter so that we can check for smaller values before we run for the largest case:"
   ]
  },
  {
   "cell_type": "code",
   "execution_count": 54,
   "metadata": {},
   "outputs": [],
   "source": [
    "def solve(LARGEST_DIGIT):\n",
    "    # variables for limits, so that we can easily change them during debugging\n",
    "    START_N = 1\n",
    "    END_N = START_N+100000\n",
    "\n",
    "    results = []\n",
    "    \n",
    "    for N in range(START_N,END_N+1):\n",
    "        \n",
    "        # on each 100 cases print\n",
    "        if N % 100 == 0:\n",
    "            print(\"Processing N={}   time={}\".format(N, datetime.now().strftime(\"%Y-%m-%d %H:%M:%S\")))\n",
    "        \n",
    "        # find the number of different scores for N raters\n",
    "        count = len(find_possible_scores(N))\n",
    "\n",
    "        if DEBUG: print(\"N={} count={}\".format(N,count))\n",
    "\n",
    "        # optimization to stop searching beyond largest possible answer:\n",
    "        if len(str(count)) > LARGEST_DIGIT+1:\n",
    "            break\n",
    "\n",
    "        if includes_all_digits(count, LARGEST_DIGIT):\n",
    "            print(\"FOUND solution for N={} : answer={}(different values)\".format(N,count))\n",
    "            results.append(N)\n",
    "            # do not break to get all possible answers\n",
    "            # break\n",
    "            \n",
    "    if len(results) == 0:\n",
    "        print(\"No solution found\")\n",
    "    else:\n",
    "        print(\"Solutions found : {}\".format(results))"
   ]
  },
  {
   "cell_type": "code",
   "execution_count": 55,
   "metadata": {},
   "outputs": [
    {
     "name": "stdout",
     "output_type": "stream",
     "text": [
      "No solution found\n"
     ]
    }
   ],
   "source": [
    "solve(1)"
   ]
  },
  {
   "cell_type": "code",
   "execution_count": 56,
   "metadata": {},
   "outputs": [
    {
     "name": "stdout",
     "output_type": "stream",
     "text": [
      "FOUND solution for N=25 : answer=201(different values)\n",
      "Solutions found : [25]\n"
     ]
    }
   ],
   "source": [
    "solve(2)"
   ]
  },
  {
   "cell_type": "code",
   "execution_count": 53,
   "metadata": {},
   "outputs": [
    {
     "name": "stdout",
     "output_type": "stream",
     "text": [
      "Processing N=100   time=2020-03-27 23:15:55\n",
      "No solution found\n"
     ]
    }
   ],
   "source": [
    "solve(3)"
   ]
  },
  {
   "cell_type": "code",
   "execution_count": 35,
   "metadata": {},
   "outputs": [
    {
     "name": "stdout",
     "output_type": "stream",
     "text": [
      "Processing N=100   time=2020-03-27 22:21:33\n",
      "Processing N=200   time=2020-03-27 22:21:33\n",
      "Processing N=300   time=2020-03-27 22:21:34\n",
      "Processing N=400   time=2020-03-27 22:21:34\n",
      "Processing N=500   time=2020-03-27 22:21:36\n",
      "No solution found\n"
     ]
    }
   ],
   "source": [
    "solve(4)"
   ]
  },
  {
   "cell_type": "code",
   "execution_count": 36,
   "metadata": {},
   "outputs": [
    {
     "name": "stdout",
     "output_type": "stream",
     "text": [
      "Processing N=100   time=2020-03-27 22:21:48\n",
      "Processing N=200   time=2020-03-27 22:21:48\n",
      "Processing N=300   time=2020-03-27 22:21:48\n",
      "Processing N=400   time=2020-03-27 22:21:49\n",
      "Processing N=500   time=2020-03-27 22:21:51\n",
      "Processing N=600   time=2020-03-27 22:21:53\n",
      "Processing N=700   time=2020-03-27 22:21:57\n",
      "Processing N=800   time=2020-03-27 22:22:02\n",
      "Processing N=900   time=2020-03-27 22:22:09\n",
      "Processing N=1000   time=2020-03-27 22:22:18\n",
      "Processing N=1100   time=2020-03-27 22:22:31\n",
      "Processing N=1200   time=2020-03-27 22:22:48\n",
      "Processing N=1300   time=2020-03-27 22:23:08\n",
      "Processing N=1400   time=2020-03-27 22:23:33\n",
      "Processing N=1500   time=2020-03-27 22:24:04\n",
      "Processing N=1600   time=2020-03-27 22:24:41\n",
      "Processing N=1700   time=2020-03-27 22:25:23\n",
      "Processing N=1800   time=2020-03-27 22:26:11\n",
      "No solution found\n"
     ]
    }
   ],
   "source": [
    "solve(5)"
   ]
  },
  {
   "cell_type": "code",
   "execution_count": null,
   "metadata": {},
   "outputs": [],
   "source": [
    "solve(6)"
   ]
  },
  {
   "cell_type": "markdown",
   "metadata": {},
   "source": [
    "It looks like we solved it for up to 5 digits with digits used only once!<br>\n",
    "However the algorithm is getting slower and using a lot of memory as we try increasing the LARGEST_DIGIT for large numbers."
   ]
  },
  {
   "cell_type": "markdown",
   "metadata": {},
   "source": [
    "### Limitations\n",
    "\n",
    "* Above solution is too slow (because it requires a lot of memory). \n",
    "\n",
    "* To avoid any crashes, we will give the caller a warning if LARGEST_DIGIT is too high ( > 6 ) and return without doing any calculation."
   ]
  },
  {
   "cell_type": "markdown",
   "metadata": {},
   "source": [
    "### Furher optimization\n",
    "\n",
    "* Speed is important\n",
    "\n",
    "* Patern corresponds to The Farey sequence\n",
    "\n",
    "* Look into Euler's Totient (Phi) function"
   ]
  },
  {
   "cell_type": "markdown",
   "metadata": {},
   "source": [
    "#### THANK YOU!"
   ]
  }
 ],
 "metadata": {
  "kernelspec": {
   "display_name": "Python 3",
   "language": "python",
   "name": "python3"
  },
  "language_info": {
   "codemirror_mode": {
    "name": "ipython",
    "version": 3
   },
   "file_extension": ".py",
   "mimetype": "text/x-python",
   "name": "python",
   "nbconvert_exporter": "python",
   "pygments_lexer": "ipython3",
   "version": "3.7.1"
  }
 },
 "nbformat": 4,
 "nbformat_minor": 2
}
